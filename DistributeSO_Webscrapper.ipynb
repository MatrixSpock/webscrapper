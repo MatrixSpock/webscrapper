{
 "cells": [
  {
   "cell_type": "code",
   "execution_count": 81,
   "metadata": {},
   "outputs": [],
   "source": [
    "# Importing\n",
    "from selenium import webdriver\n",
    "from selenium.webdriver.common.keys import Keys\n",
    "from selenium.webdriver.common.by import By\n",
    "from selenium.webdriver.support.ui import WebDriverWait\n",
    "from selenium.webdriver.common.action_chains import ActionChains\n",
    "from selenium.webdriver.support import expected_conditions as EC\n",
    "from selenium import webdriver\n",
    "from bs4 import BeautifulSoup as bs\n",
    "import re as re\n",
    "import time\n",
    "import pandas as pd\n",
    "import xlsxwriter"
   ]
  },
  {
   "cell_type": "code",
   "execution_count": 83,
   "metadata": {},
   "outputs": [],
   "source": [
    "# Use driver to open the link\n",
    "driver = webdriver.Chrome()\n",
    "driver.get(\"https://www.distribute.so/\")\n",
    "time.sleep(3)"
   ]
  },
  {
   "cell_type": "code",
   "execution_count": 84,
   "metadata": {},
   "outputs": [],
   "source": [
    "# Locating the Main Menu (Parent element) - Resources Toolbar Option\n",
    "mainMenu = driver.find_element(By.XPATH, \"/html/body/section[1]/div/div[2]/div[2]/div[2]/div/div[1]\")\n",
    "\n",
    "# Instantiating Actions class\n",
    "actions = ActionChains(driver)\n",
    "\n",
    "# Hovering on main menu\n",
    "actions.move_to_element(mainMenu)\n",
    "\n",
    "# Locating the element from Sub Menu\n",
    "subMenu = driver.find_element(By.XPATH, \"//*[@id='w-dropdown-list-1']/a[1]\")\n",
    "\n",
    "# To mouseover on sub menu\n",
    "actions.move_to_element(subMenu)\n",
    "\n",
    "# Compiling all the actions and performing them in a single step\n",
    "actions.click().perform()"
   ]
  },
  {
   "cell_type": "code",
   "execution_count": null,
   "metadata": {},
   "outputs": [],
   "source": [
    "# Extract titles and links\n",
    "blog_items = driver.find_elements(By.CSS_SELECTOR, \".blog-coll-item\")\n",
    "print(blog_items)"
   ]
  },
  {
   "cell_type": "code",
   "execution_count": 96,
   "metadata": {},
   "outputs": [
    {
     "name": "stdout",
     "output_type": "stream",
     "text": [
      "                                                 Title     Time Read  \\\n",
      "0    How to Create a Lead Magnet: Key Tips for Effe...   9\\nMIN READ   \n",
      "1    Understanding Good Conversion Rates for a Lead...  18\\nMIN READ   \n",
      "2            The Best Plugins for Lead Magnet Creation  14\\nMIN READ   \n",
      "3             Lead Magnet Strategies for Midlife Women  13\\nMIN READ   \n",
      "4    Step-by-Step Guide on How to Download a Lead M...  11\\nMIN READ   \n",
      "..                                                 ...           ...   \n",
      "96     Crafting the Perfect Lead Magnet Email Template      MIN READ   \n",
      "97   Create A Lead Magnet Quiz Boosting Online Mark...      MIN READ   \n",
      "98                   Lead Magnet Landing Page Examples      MIN READ   \n",
      "99             Creating a Successful Lead Magnet Ebook      MIN READ   \n",
      "100  Guide to Becoming a Successful Lead Magnet Cre...      MIN READ   \n",
      "\n",
      "                                                  Link         Date  \n",
      "0    https://www.distribute.so/blog-post/how-to-cre...  Oct 1, 2023  \n",
      "1    https://www.distribute.so/blog-post/what-is-a-...  Oct 1, 2023  \n",
      "2    https://www.distribute.so/blog-post/plugins-fo...  Oct 1, 2023  \n",
      "3    https://www.distribute.so/blog-post/lead-in-ma...  Oct 1, 2023  \n",
      "4    https://www.distribute.so/blog-post/how-to-dow...  Oct 1, 2023  \n",
      "..                                                 ...          ...  \n",
      "96   https://www.distribute.so/blog-post/lead-magne...  Oct 1, 2023  \n",
      "97   https://www.distribute.so/blog-post/lead-magne...  Oct 1, 2023  \n",
      "98   https://www.distribute.so/blog-post/lead-magne...  Oct 1, 2023  \n",
      "99   https://www.distribute.so/blog-post/lead-magne...  Oct 1, 2023  \n",
      "100  https://www.distribute.so/blog-post/lead-magne...  Oct 1, 2023  \n",
      "\n",
      "[101 rows x 4 columns]\n"
     ]
    }
   ],
   "source": [
    "# Extract titles and links\n",
    "blog_items = driver.find_elements(By.CSS_SELECTOR, \".blog-coll-item\")\n",
    "data = []\n",
    "for item in blog_items:\n",
    "    # Find the link element\n",
    "    link_element = item.find_element(By.TAG_NAME, \"a\")\n",
    "    link = link_element.get_attribute('href')\n",
    "    \n",
    "    # # Given the structure in the DOM\n",
    "    # # Adjust the selector to find the exact path to the title element\n",
    "    parent_div = item.find_element(By.CSS_SELECTOR, \".div-blog-text\")\n",
    "\n",
    "    # # # Title Text\n",
    "    title_element = parent_div.find_element(By.CSS_SELECTOR,\".blog-title\")\n",
    "    title = title_element.text\n",
    "\n",
    "    # # # Blog Read Time\n",
    "    time_element = parent_div.find_element(By.CSS_SELECTOR,\".div-blog-time\")\n",
    "    time = time_element.text\n",
    " \n",
    "    # # # Date\n",
    "    date_element = parent_div.find_element(By.CSS_SELECTOR,\".blog-author\")\n",
    "    date = date_element.text\n",
    "    \n",
    "    \n",
    "    data.append({\"Title\": title, \"Time Read\":time, \"Link\": link, \"Date\":date})\n",
    "\n",
    "# Convert list to DataFrame\n",
    "df = pd.DataFrame(data)\n",
    "\n",
    "# Display DataFrame\n",
    "print(df)"
   ]
  },
  {
   "cell_type": "code",
   "execution_count": 97,
   "metadata": {},
   "outputs": [],
   "source": [
    "df.to_csv(\"test1.csv\", index=False)\n",
    "\n",
    "# writer = pd.ExcelWriter(\"test1.xlsx\", engine='xlsxwriter')\n",
    "# titlesDataFrame.to_excel(writer, index =False)\n",
    "# writer.close()"
   ]
  },
  {
   "cell_type": "code",
   "execution_count": null,
   "metadata": {},
   "outputs": [],
   "source": [
    "# Close the WebDriver\n",
    "driver.quit()"
   ]
  },
  {
   "cell_type": "code",
   "execution_count": null,
   "metadata": {},
   "outputs": [],
   "source": []
  }
 ],
 "metadata": {
  "kernelspec": {
   "display_name": "Python 3 (ipykernel)",
   "language": "python",
   "name": "python3"
  },
  "language_info": {
   "codemirror_mode": {
    "name": "ipython",
    "version": 3
   },
   "file_extension": ".py",
   "mimetype": "text/x-python",
   "name": "python",
   "nbconvert_exporter": "python",
   "pygments_lexer": "ipython3",
   "version": "3.11.9"
  }
 },
 "nbformat": 4,
 "nbformat_minor": 4
}
