{
 "cells": [
  {
   "cell_type": "code",
   "execution_count": 10,
   "metadata": {},
   "outputs": [],
   "source": [
    "# Importing\n",
    "from selenium import webdriver\n",
    "from selenium.webdriver.common.keys import Keys\n",
    "from selenium.webdriver.common.by import By\n",
    "from selenium.webdriver.support.ui import WebDriverWait\n",
    "from selenium.webdriver.common.action_chains import ActionChains\n",
    "from selenium.webdriver.support import expected_conditions as EC\n",
    "from selenium import webdriver\n",
    "from bs4 import BeautifulSoup as bs\n",
    "import re as re\n",
    "import time\n",
    "import pandas as pd\n",
    "import xlsxwriter"
   ]
  },
  {
   "cell_type": "code",
   "execution_count": null,
   "metadata": {},
   "outputs": [],
   "source": [
    "# # Get Webdriver path, username and password\n",
    "# PATH = input(\"Enter the Webdriver path: \")\n",
    "# USERNAME = input(\"Enter the username: \")\n",
    "# PASSWORD = input(\"Enter the password: \")\n",
    "# print(PATH)\n",
    "# print(USERNAME)\n",
    "# print(PASSWORD)"
   ]
  },
  {
   "cell_type": "code",
   "execution_count": 4,
   "metadata": {},
   "outputs": [],
   "source": [
    "# Use driver to open the link\n",
    "driver = webdriver.Chrome()\n",
    "driver.get(\"https://www.distribute.so/\")\n",
    "time.sleep(3)"
   ]
  },
  {
   "cell_type": "code",
   "execution_count": null,
   "metadata": {},
   "outputs": [],
   "source": [
    "# # Use login credentials to login\n",
    "# email=driver.find_element_by_id(\"username\")\n",
    "# email.send_keys(USERNAME)\n",
    "# password=driver.find_element_by_id(\"password\")\n",
    "# password.send_keys(PASSWORD)\n",
    "# time.sleep(3)\n",
    "# password.send_keys(Keys.RETURN)"
   ]
  },
  {
   "cell_type": "code",
   "execution_count": 6,
   "metadata": {},
   "outputs": [],
   "source": [
    "# Locating the Main Menu (Parent element)\n",
    "mainMenu = driver.find_element(By.XPATH, \"/html/body/section/div/div[2]/div[2]/div[2]/div\")\n",
    "# mainMenu = driver.find_element(By.XPATH, \"/html/body/section[1]/div/div[2]/div[2]/div[2]/div/div[1]\")\n",
    "\n",
    "# Instantiating Actions class\n",
    "actions = ActionChains(driver)\n",
    "\n",
    "# Hovering on main menu\n",
    "actions.move_to_element(mainMenu)\n",
    "\n",
    "# Locating the element from Sub Menu\n",
    "subMenu = driver.find_element(By.XPATH, \"//*[@id='w-dropdown-list-1']/a[1]\")\n",
    "\n",
    "# To mouseover on sub menu\n",
    "actions.move_to_element(subMenu)\n",
    "\n",
    "# Compiling all the actions and performing them in a single step\n",
    "actions.click().perform()"
   ]
  },
  {
   "cell_type": "code",
   "execution_count": 7,
   "metadata": {},
   "outputs": [
    {
     "name": "stdout",
     "output_type": "stream",
     "text": [
      "['18\\nMIN READ\\nUnderstanding Good Conversion Rates for a Lead Magnet\\nOct 1, 2023', '14\\nMIN READ\\nThe Best Plugins for Lead Magnet Creation\\nOct 1, 2023', '13\\nMIN READ\\nLead Magnet Strategies for Midlife Women\\nOct 1, 2023', '11\\nMIN READ\\nHow to Download a Lead Magnet\\nOct 1, 2023', '14\\nMIN READ\\nHow to Create a Lead Magnet: Types of Lead Magnets\\nOct 1, 2023', '15\\nMIN READ\\nHow to Create a Lead Magnet Page\\nOct 1, 2023', '15\\nMIN READ\\nHow to Create a High Conversion Lead Magnet\\nOct 1, 2023', '8\\nMIN READ\\nHow to Create a Lead Magnet for Gathering Contact Information\\nOct 1, 2023', '14\\nMIN READ\\nHow to Create a Freebie Lead Magnet for Your Website\\nOct 1, 2023', '8\\nMIN READ\\nHow to Create a Lead Magnet Checklist\\nOct 1, 2023', '13\\nMIN READ\\nCreating an Effective Quiz Lead Magnet: A Comprehensive Guide\\nOct 1, 2023', '14\\nMIN READ\\nCreating an Effective Lead Magnet Video\\nOct 1, 2023', '14\\nMIN READ\\nMastering the Lead Magnet Generator: A Comprehensive Guide\\nOct 1, 2023', '11\\nMIN READ\\nCrafting the Perfect Lead Magnet Email Sequence\\nOct 1, 2023', '12\\nMIN READ\\nLead Magnet Design Template\\nOct 1, 2023', '10\\nMIN READ\\nLead Magnet Delivery: An Essential Guide\\nOct 1, 2023', '11\\nMIN READ\\nCreating a Lead Magnet in Canva\\nOct 1, 2023', '13\\nMIN READ\\nWriting a Killer Author Bio for a Lead Magnet\\nOct 1, 2023', \"10\\nMIN READ\\nWhat's a Good Lead Magnet for Ecommerce?\\nOct 1, 2023\", '10\\nMIN READ\\nWhat Should be the Lead Magnet for a T-Shirt Company\\nOct 1, 2023', '14\\nMIN READ\\nLead Magnet Sign Up for a Free: A Comprehensive Guide\\nOct 1, 2023', '11\\nMIN READ\\nCreating a Lead Magnet Page on ClickFunnels\\nOct 1, 2023', '12\\nMIN READ\\nLead Magnet Ideas for Travel Business\\nOct 1, 2023', '13\\nMIN READ\\nLead Magnet Ideas for Marketing Agencies\\nOct 1, 2023', '12\\nMIN READ\\nLead Magnet Ideas for Freelance Writers\\nOct 1, 2023', '9\\nMIN READ\\nLead Magnet Ideas for Divorce Attorneys\\nOct 1, 2023', '14\\nMIN READ\\nLead Magnet Ideas for Authors\\nOct 1, 2023', '11\\nMIN READ\\nLead Magnet Ideas for Accountants\\nOct 1, 2023', '12\\nMIN READ\\nCreating a Lead Magnet for Top of Your Website\\nOct 1, 2023', '12\\nMIN READ\\nCreating an Effective Lead Magnet for SaaS Businesses\\nOct 1, 2023', '6\\nMIN READ\\nCreating an Attractive Lead Magnet for Restaurants\\nOct 1, 2023', '14\\nMIN READ\\nCreating a Lead Magnet for Lawyers: A Comprehensive Guide\\nOct 1, 2023', '8\\nMIN READ\\nCreating an Effective Lead Magnet for Insurance Agents\\nOct 1, 2023', '14\\nMIN READ\\nCreating a Compelling Lead Magnet for Health Coaches\\nOct 1, 2023', '11\\nMIN READ\\nCreating an Effective Lead Magnet for Dentists\\nOct 1, 2023', '12\\nMIN READ\\nCreating a Lead Magnet for Car Dealerships\\nOct 1, 2023', '11\\nMIN READ\\nLead Magnet Examples for Life Coaches\\nOct 1, 2023', '11\\nMIN READ\\nThe Ultimate Guide to Writing Lead Magnet Content\\nOct 1, 2023', '11\\nMIN READ\\nHow to Use Dropbox for Lead Magnet\\nOct 1, 2023', '11\\nMIN READ\\nHow to Use a Lead Magnet\\nOct 1, 2023', '12\\nMIN READ\\nHow to Set Up an Ebook Lead Magnet\\nOct 1, 2023', '12\\nMIN READ\\nHow to Promote Your eBook Lead Magnet\\nOct 1, 2023', '11\\nMIN READ\\nHow to Make a Lead Magnet for Your Website\\nOct 1, 2023', '11\\nMIN READ\\nHow to Increase Interest from a Lead Magnet\\nOct 1, 2023', '16\\nMIN READ\\nHow to Deliver Lead Magnet with Thrive Themes\\nOct 1, 2023', '15\\nMIN READ\\nHow to Create a Lead Magnet\\nOct 1, 2023', '15\\nMIN READ\\nHow to Create Content for a Lead Magnet\\nOct 1, 2023', '12\\nMIN READ\\nHow to Create a Lead Magnet Website Visitors Will Love\\nOct 1, 2023', '10\\nMIN READ\\nHow to Create the Perfect Lead Magnet\\nOct 1, 2023', '14\\nMIN READ\\nHow to Create and Design a Lead Magnet\\nOct 1, 2023', '13\\nMIN READ\\nHow to Create a Lead Magnet for Your Ideal Customer\\nOct 1, 2023', '12\\nMIN READ\\nHow to Create a Lead Magnet for WordPress Template\\nOct 1, 2023', '12\\nMIN READ\\nHow to Create a Lead Magnet and Buy Lead Magnets\\nOct 1, 2023', '12\\nMIN READ\\nHow to Create a Converting Lead Magnet\\nOct 1, 2023', '11\\nMIN READ\\nHow to Connect a Permanent Magnet Motor Lead Connections\\nOct 1, 2023', '11\\nMIN READ\\nHow to Add Popover Lead Magnet in Squarespace\\nOct 1, 2023', '15\\nMIN READ\\nHow to Add a Lead Magnet to GetResponse\\nOct 1, 2023', '11\\nMIN READ\\nHow to Add a Lead Magnet to Wix\\nOct 1, 2023', '10\\nMIN READ\\nHow Much to Charge for a Lead Magnet Ebook\\nOct 1, 2023', '12\\nMIN READ\\nHow to Get Traffic to Lead Magnet According to Russell Brunson\\nOct 1, 2023', '12\\nMIN READ\\nCreating an Effective Lead Magnet for a Mom Blog\\nOct 1, 2023', '10\\nMIN READ\\nCreating an eBook Cover for Your Lead Magnet\\nOct 1, 2023', '12\\nMIN READ\\nDone For You Lead Magnet: A Comprehensive Guide\\nOct 1, 2023', '11\\nMIN READ\\nBest WordPress Plugin for Lead Magnet\\nOct 1, 2023', '15\\nMIN READ\\nCreating the Best Lead Magnet for Property Management\\nOct 1, 2023', '11\\nMIN READ\\nBest Lead Magnet for Facebook Ads\\nOct 1, 2023', 'MIN READ\\nLead Magnet Ideas for Realtors\\nOct 1, 2023', 'MIN READ\\nCreating a Lead Magnet for Web Design: A Comprehensive Guide\\nOct 1, 2023', 'MIN READ\\nCreating an Effective Lead Magnet for Accountants\\nOct 1, 2023', 'MIN READ\\nHow to Set Up a Lead Magnet on WordPress\\nOct 1, 2023', 'MIN READ\\nHow to Promote Your Lead Magnet\\nOct 1, 2023', 'MIN READ\\nHow to Promote a Lead Magnet\\nOct 1, 2023', 'MIN READ\\nHow to Create a PDF Lead Magnet\\nOct 1, 2023', 'MIN READ\\nHow to Create a Lead Magnet with Leadpages\\nOct 1, 2023', 'MIN READ\\nHow to Create a Good Lead Magnet\\nOct 1, 2023', 'MIN READ\\nHow to Build a Lead Magnet\\nOct 1, 2023', 'MIN READ\\nHow to Create a Great Free Video Gift for Lead Magnet\\nOct 1, 2023', 'MIN READ\\nLead Magnets for Conversion: Creating Great Lead Magnets\\nOct 1, 2023', 'MIN READ\\nCreating an Effective Shopify Lead Magnet\\nOct 1, 2023', 'MIN READ\\nCreating a Successful Real Estate Lead Magnet\\nOct 1, 2023', 'MIN READ\\nReal Estate Lead Magnet Templates\\nOct 1, 2023', 'MIN READ\\nCrafting a Successful Lead Magnet and Tripwire Strategy\\nOct 1, 2023', 'MIN READ\\nCreating a Successful Mailchimp Lead Magnet\\nOct 1, 2023', 'MIN READ\\nUnderstanding Lead Magnet vs Landing Page\\nOct 1, 2023', 'MIN READ\\nCreating an Effective PDF Lead Magnet to Boost Your Online Business\\nOct 1, 2023', 'MIN READ\\nUnderstanding and Utilizing Lead Magnet Tools\\nOct 1, 2023', 'MIN READ\\nCreating an Effective LinkedIn Lead Magnet\\nOct 1, 2023', 'MIN READ\\nA Guide to Free Lead Magnet Templates\\nOct 1, 2023', 'MIN READ\\nCrafting Compelling Lead Magnet Titles\\nOct 1, 2023', 'MIN READ\\nLead Magnet Software: Enhancing Your Marketing Strategy\\nOct 1, 2023', 'MIN READ\\nCreating a High-Converting Lead Magnet Opt-In Page\\nOct 1, 2023', 'MIN READ\\nLead Magnet Templates: A Comprehensive Guide\\nOct 1, 2023', 'MIN READ\\nCreating an Effective Lead Magnet on Squarespace\\nOct 1, 2023', 'MIN READ\\nCreating an Effective Lead Magnet Landing Page\\nOct 1, 2023', 'MIN READ\\nUnderstanding and Implementing a Lead Magnet Funnel\\nOct 1, 2023', 'MIN READ\\nCrafting the Perfect Lead Magnet Email Template\\nOct 1, 2023', 'MIN READ\\nCreating a Lead Magnet Quiz to Boost Your Online Marketing Strategy\\nOct 1, 2023', 'MIN READ\\nLead Magnet Landing Page Examples\\nOct 1, 2023', 'MIN READ\\nCreating a Successful Lead Magnet Ebook\\nOct 1, 2023', 'MIN READ\\nGuide to Becoming a Successful Lead Magnet Creator\\nOct 1, 2023']\n"
     ]
    }
   ],
   "source": [
    "parent_div = driver.find_element(By.XPATH, \"/html/body/section[3]/div[2]/div/div\")\n",
    "\n",
    "nested_divs = parent_div.find_elements(By.XPATH, \".//div[@class='blog-coll-item w-dyn-item']\")\n",
    "\n",
    "titles = [nested_div.text for nested_div in nested_divs]\n",
    "\n",
    "print(titles)"
   ]
  },
  {
   "cell_type": "code",
   "execution_count": 8,
   "metadata": {},
   "outputs": [
    {
     "name": "stdout",
     "output_type": "stream",
     "text": [
      "                                                Title\n",
      "0   18\\nMIN READ\\nUnderstanding Good Conversion Ra...\n",
      "1   14\\nMIN READ\\nThe Best Plugins for Lead Magnet...\n",
      "2   13\\nMIN READ\\nLead Magnet Strategies for Midli...\n",
      "3   11\\nMIN READ\\nHow to Download a Lead Magnet\\nO...\n",
      "4   14\\nMIN READ\\nHow to Create a Lead Magnet: Typ...\n",
      "..                                                ...\n",
      "95  MIN READ\\nCrafting the Perfect Lead Magnet Ema...\n",
      "96  MIN READ\\nCreating a Lead Magnet Quiz to Boost...\n",
      "97  MIN READ\\nLead Magnet Landing Page Examples\\nO...\n",
      "98  MIN READ\\nCreating a Successful Lead Magnet Eb...\n",
      "99  MIN READ\\nGuide to Becoming a Successful Lead ...\n",
      "\n",
      "[100 rows x 1 columns]\n"
     ]
    }
   ],
   "source": [
    "titlesDataFrame = pd.DataFrame(titles, columns=['Title'])\n",
    "\n",
    "print(titlesDataFrame)"
   ]
  },
  {
   "cell_type": "code",
   "execution_count": 13,
   "metadata": {},
   "outputs": [],
   "source": [
    "titlesDataFrame.to_csv(\"test1.csv\", encoding='utf-8', index=False)\n",
    "\n",
    "writer = pd.ExcelWriter(\"test1.xlsx\", engine='xlsxwriter')\n",
    "titlesDataFrame.to_excel(writer, index =False)\n",
    "writer.close()"
   ]
  },
  {
   "cell_type": "code",
   "execution_count": null,
   "metadata": {},
   "outputs": [],
   "source": [
    "# Our web scraper Function\n",
    "def Scrape_func(a,b,c):\n",
    "    name = a[28:-1]\n",
    "    page = a\n",
    "    time.sleep(10)\n",
    "\n",
    "    driver.get(page + 'detail/recent-activity/shares/')  \n",
    "    start=time.time()\n",
    "    lastHeight = driver.execute_script(\"return document.body.scrollHeight\")\n",
    "    while True:\n",
    "        driver.execute_script(\"window.scrollTo(0, document.body.scrollHeight);\")\n",
    "        time.sleep(5)\n",
    "        newHeight = driver.execute_script(\"return document.body.scrollHeight\")\n",
    "        if newHeight == lastHeight:\n",
    "            break\n",
    "        lastHeight = newHeight\n",
    "        end=time.time()\n",
    "        if round(end-start)>20:\n",
    "            break\n",
    "\n",
    "    company_page = driver.page_source   \n",
    "\n",
    "    linkedin_soup = bs(company_page.encode(\"utf-8\"), \"html\")\n",
    "    linkedin_soup.prettify()\n",
    "    containers = linkedin_soup.findAll(\"div\",{\"class\":\"occludable-update ember-view\"})\n",
    "    print(\"Fetching data from account: \"+ name)\n",
    "    iterations = 0\n",
    "    nos = int(input(\"Enter number of posts: \"))\n",
    "    for container in containers:\n",
    "\n",
    "        try:\n",
    "            text_box = container.find(\"div\",{\"class\":\"feed-shared-update-v2__description-wrapper ember-view\"})\n",
    "            text = text_box.find(\"span\",{\"dir\":\"ltr\"})\n",
    "            b.append(text.text.strip())\n",
    "            c.append(name)\n",
    "            iterations += 1\n",
    "            print(iterations)\n",
    "            \n",
    "            if(iterations==nos):\n",
    "                break\n",
    "\n",
    "        except:\n",
    "            pass    "
   ]
  },
  {
   "cell_type": "code",
   "execution_count": null,
   "metadata": {},
   "outputs": [],
   "source": [
    "# Using recursion with our function\n",
    "n = int(input(\"Enter the number of entries: \"))\n",
    "for i in range(n):\n",
    "    post_links.append(input(\"Enter the link: \"))\n",
    "for j in range(n):\n",
    "    Scrape_func(post_links[j],post_texts,post_names)\n",
    "\n",
    "        \n",
    "driver.quit()"
   ]
  },
  {
   "cell_type": "code",
   "execution_count": null,
   "metadata": {},
   "outputs": [],
   "source": [
    "# Saving the data\n",
    "data = {\n",
    "    \"Name\": post_names,\n",
    "    \"Content\": post_texts,\n",
    "}\n",
    "\n",
    "df = pd.DataFrame(data)\n",
    "df.to_csv(\"test1.csv\", encoding='utf-8', index=False)\n",
    "\n",
    "writer = pd.ExcelWriter(\"test1.xlsx\", engine='xlsxwriter')\n",
    "df.to_excel(writer, index =False)\n",
    "writer.save()"
   ]
  },
  {
   "cell_type": "code",
   "execution_count": null,
   "metadata": {},
   "outputs": [],
   "source": []
  }
 ],
 "metadata": {
  "kernelspec": {
   "display_name": "Python 3 (ipykernel)",
   "language": "python",
   "name": "python3"
  },
  "language_info": {
   "codemirror_mode": {
    "name": "ipython",
    "version": 3
   },
   "file_extension": ".py",
   "mimetype": "text/x-python",
   "name": "python",
   "nbconvert_exporter": "python",
   "pygments_lexer": "ipython3",
   "version": "3.11.9"
  }
 },
 "nbformat": 4,
 "nbformat_minor": 4
}
